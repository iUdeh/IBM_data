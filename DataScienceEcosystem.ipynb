{
 "cells": [
  {
   "cell_type": "markdown",
   "id": "a5e1e566",
   "metadata": {},
   "source": [
    "# Data Science Tools and Ecosystem"
   ]
  },
  {
   "cell_type": "markdown",
   "id": "007d353e",
   "metadata": {},
   "source": [
    "In this notebook, Data Science Tools and Ecosystem are summarized."
   ]
  },
  {
   "cell_type": "markdown",
   "id": "bccd1746",
   "metadata": {},
   "source": [
    "Some of the popular languages that Data sciecntists uses are:\n",
    "1. Python\n",
    "2. R\n",
    "3. SQL\n",
    "4. Scala\n"
   ]
  },
  {
   "cell_type": "markdown",
   "id": "8b2cec3f",
   "metadata": {},
   "source": [
    "Some of the commonly used libraries used by Data Scientist include:\n",
    "1. Scientific computing Libraries\n",
    "2. Visualization Libraries \n",
    "3. Deep Learning Libraries\n",
    "4. High-Level Machine Learning and Deep Learning"
   ]
  },
  {
   "cell_type": "markdown",
   "id": "ce8aaf82",
   "metadata": {},
   "source": [
    "**Objectives**\n",
    "- List popular Languages used in Data Science\n",
    "- Some of the commonly used libraries by Data Scientist\n",
    "- A table of Data Science Tools"
   ]
  },
  {
   "cell_type": "markdown",
   "id": "9a2306f8",
   "metadata": {},
   "source": [
    "|Data Science Tools\n",
    "|----------------------\n",
    "| TensorFlow\n",
    "| Matplotlib\n",
    "| Pandas"
   ]
  },
  {
   "cell_type": "markdown",
   "id": "ecc4685b",
   "metadata": {},
   "source": [
    "### Below are a few examples of evaluating aritmethic expressions in python"
   ]
  },
  {
   "cell_type": "code",
   "execution_count": 2,
   "id": "e45b421e",
   "metadata": {},
   "outputs": [
    {
     "name": "stdout",
     "output_type": "stream",
     "text": [
      "17\n"
     ]
    }
   ],
   "source": [
    "#This is a simple arithmetic expression to multiply then add integer. \n",
    "\n",
    "example = (3*4)+5\n",
    "\n",
    "print(example)"
   ]
  },
  {
   "cell_type": "code",
   "execution_count": 3,
   "id": "264a1910",
   "metadata": {},
   "outputs": [
    {
     "name": "stdout",
     "output_type": "stream",
     "text": [
      "3.3333333333333335\n"
     ]
    }
   ],
   "source": [
    "#This will convert 200 minutes to hours by diving by 60.\n",
    "\n",
    "example= 200 / 60\n",
    "\n",
    "print (example)"
   ]
  },
  {
   "cell_type": "markdown",
   "id": "ce488a12",
   "metadata": {},
   "source": [
    "## Author\n",
    "Udeh Michael Ikechukwu"
   ]
  },
  {
   "cell_type": "code",
   "execution_count": null,
   "id": "5943e3dd",
   "metadata": {},
   "outputs": [],
   "source": []
  }
 ],
 "metadata": {
  "kernelspec": {
   "display_name": "Python 3 (ipykernel)",
   "language": "python",
   "name": "python3"
  },
  "language_info": {
   "codemirror_mode": {
    "name": "ipython",
    "version": 3
   },
   "file_extension": ".py",
   "mimetype": "text/x-python",
   "name": "python",
   "nbconvert_exporter": "python",
   "pygments_lexer": "ipython3",
   "version": "3.9.7"
  }
 },
 "nbformat": 4,
 "nbformat_minor": 5
}
